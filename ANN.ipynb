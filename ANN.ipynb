{
 "cells": [
  {
   "cell_type": "code",
   "execution_count": 1,
   "metadata": {},
   "outputs": [],
   "source": [
    "import pandas as pd\n",
    "import numpy as np\n",
    "import matplotlib.pyplot as plt"
   ]
  },
  {
   "cell_type": "code",
   "execution_count": 4,
   "metadata": {},
   "outputs": [],
   "source": [
    "df = pd.read_csv('C://Users/user/Desktop/Churn_Modelling.csv')"
   ]
  },
  {
   "cell_type": "code",
   "execution_count": 5,
   "metadata": {},
   "outputs": [
    {
     "data": {
      "text/html": [
       "<div>\n",
       "<style scoped>\n",
       "    .dataframe tbody tr th:only-of-type {\n",
       "        vertical-align: middle;\n",
       "    }\n",
       "\n",
       "    .dataframe tbody tr th {\n",
       "        vertical-align: top;\n",
       "    }\n",
       "\n",
       "    .dataframe thead th {\n",
       "        text-align: right;\n",
       "    }\n",
       "</style>\n",
       "<table border=\"1\" class=\"dataframe\">\n",
       "  <thead>\n",
       "    <tr style=\"text-align: right;\">\n",
       "      <th></th>\n",
       "      <th>RowNumber</th>\n",
       "      <th>CustomerId</th>\n",
       "      <th>Surname</th>\n",
       "      <th>CreditScore</th>\n",
       "      <th>Geography</th>\n",
       "      <th>Gender</th>\n",
       "      <th>Age</th>\n",
       "      <th>Tenure</th>\n",
       "      <th>Balance</th>\n",
       "      <th>NumOfProducts</th>\n",
       "      <th>HasCrCard</th>\n",
       "      <th>IsActiveMember</th>\n",
       "      <th>EstimatedSalary</th>\n",
       "      <th>Exited</th>\n",
       "    </tr>\n",
       "  </thead>\n",
       "  <tbody>\n",
       "    <tr>\n",
       "      <th>0</th>\n",
       "      <td>1</td>\n",
       "      <td>15634602</td>\n",
       "      <td>Hargrave</td>\n",
       "      <td>619</td>\n",
       "      <td>France</td>\n",
       "      <td>Female</td>\n",
       "      <td>42</td>\n",
       "      <td>2</td>\n",
       "      <td>0.00</td>\n",
       "      <td>1</td>\n",
       "      <td>1</td>\n",
       "      <td>1</td>\n",
       "      <td>101348.88</td>\n",
       "      <td>1</td>\n",
       "    </tr>\n",
       "    <tr>\n",
       "      <th>1</th>\n",
       "      <td>2</td>\n",
       "      <td>15647311</td>\n",
       "      <td>Hill</td>\n",
       "      <td>608</td>\n",
       "      <td>Spain</td>\n",
       "      <td>Female</td>\n",
       "      <td>41</td>\n",
       "      <td>1</td>\n",
       "      <td>83807.86</td>\n",
       "      <td>1</td>\n",
       "      <td>0</td>\n",
       "      <td>1</td>\n",
       "      <td>112542.58</td>\n",
       "      <td>0</td>\n",
       "    </tr>\n",
       "    <tr>\n",
       "      <th>2</th>\n",
       "      <td>3</td>\n",
       "      <td>15619304</td>\n",
       "      <td>Onio</td>\n",
       "      <td>502</td>\n",
       "      <td>France</td>\n",
       "      <td>Female</td>\n",
       "      <td>42</td>\n",
       "      <td>8</td>\n",
       "      <td>159660.80</td>\n",
       "      <td>3</td>\n",
       "      <td>1</td>\n",
       "      <td>0</td>\n",
       "      <td>113931.57</td>\n",
       "      <td>1</td>\n",
       "    </tr>\n",
       "    <tr>\n",
       "      <th>3</th>\n",
       "      <td>4</td>\n",
       "      <td>15701354</td>\n",
       "      <td>Boni</td>\n",
       "      <td>699</td>\n",
       "      <td>France</td>\n",
       "      <td>Female</td>\n",
       "      <td>39</td>\n",
       "      <td>1</td>\n",
       "      <td>0.00</td>\n",
       "      <td>2</td>\n",
       "      <td>0</td>\n",
       "      <td>0</td>\n",
       "      <td>93826.63</td>\n",
       "      <td>0</td>\n",
       "    </tr>\n",
       "    <tr>\n",
       "      <th>4</th>\n",
       "      <td>5</td>\n",
       "      <td>15737888</td>\n",
       "      <td>Mitchell</td>\n",
       "      <td>850</td>\n",
       "      <td>Spain</td>\n",
       "      <td>Female</td>\n",
       "      <td>43</td>\n",
       "      <td>2</td>\n",
       "      <td>125510.82</td>\n",
       "      <td>1</td>\n",
       "      <td>1</td>\n",
       "      <td>1</td>\n",
       "      <td>79084.10</td>\n",
       "      <td>0</td>\n",
       "    </tr>\n",
       "  </tbody>\n",
       "</table>\n",
       "</div>"
      ],
      "text/plain": [
       "   RowNumber  CustomerId   Surname  CreditScore Geography  Gender  Age  \\\n",
       "0          1    15634602  Hargrave          619    France  Female   42   \n",
       "1          2    15647311      Hill          608     Spain  Female   41   \n",
       "2          3    15619304      Onio          502    France  Female   42   \n",
       "3          4    15701354      Boni          699    France  Female   39   \n",
       "4          5    15737888  Mitchell          850     Spain  Female   43   \n",
       "\n",
       "   Tenure    Balance  NumOfProducts  HasCrCard  IsActiveMember  \\\n",
       "0       2       0.00              1          1               1   \n",
       "1       1   83807.86              1          0               1   \n",
       "2       8  159660.80              3          1               0   \n",
       "3       1       0.00              2          0               0   \n",
       "4       2  125510.82              1          1               1   \n",
       "\n",
       "   EstimatedSalary  Exited  \n",
       "0        101348.88       1  \n",
       "1        112542.58       0  \n",
       "2        113931.57       1  \n",
       "3         93826.63       0  \n",
       "4         79084.10       0  "
      ]
     },
     "execution_count": 5,
     "metadata": {},
     "output_type": "execute_result"
    }
   ],
   "source": [
    "df.head()"
   ]
  },
  {
   "cell_type": "code",
   "execution_count": 7,
   "metadata": {},
   "outputs": [],
   "source": [
    "X = df.iloc[:, 3:13].values"
   ]
  },
  {
   "cell_type": "code",
   "execution_count": 8,
   "metadata": {},
   "outputs": [],
   "source": [
    "y = df.iloc[:, 13].values"
   ]
  },
  {
   "cell_type": "code",
   "execution_count": 11,
   "metadata": {},
   "outputs": [],
   "source": [
    "from sklearn.cross_validation import train_test_split"
   ]
  },
  {
   "cell_type": "code",
   "execution_count": null,
   "metadata": {},
   "outputs": [],
   "source": []
  },
  {
   "cell_type": "code",
   "execution_count": 12,
   "metadata": {},
   "outputs": [],
   "source": [
    "from sklearn.preprocessing import LabelEncoder, OneHotEncoder"
   ]
  },
  {
   "cell_type": "code",
   "execution_count": 13,
   "metadata": {},
   "outputs": [],
   "source": [
    "label_encoder1 = LabelEncoder()"
   ]
  },
  {
   "cell_type": "code",
   "execution_count": 14,
   "metadata": {},
   "outputs": [],
   "source": [
    "X[:,1] = label_encoder1.fit_transform(X[:,1])"
   ]
  },
  {
   "cell_type": "code",
   "execution_count": 15,
   "metadata": {},
   "outputs": [],
   "source": [
    "X[:,2] = label_encoder1.fit_transform(X[:,2])"
   ]
  },
  {
   "cell_type": "code",
   "execution_count": 17,
   "metadata": {},
   "outputs": [],
   "source": [
    "oneHotEncoder = OneHotEncoder(categorical_features=[1])"
   ]
  },
  {
   "cell_type": "code",
   "execution_count": 18,
   "metadata": {},
   "outputs": [],
   "source": [
    "X = oneHotEncoder.fit_transform(X).toarray()"
   ]
  },
  {
   "cell_type": "code",
   "execution_count": 20,
   "metadata": {},
   "outputs": [],
   "source": [
    "X = X[:, 1:]"
   ]
  },
  {
   "cell_type": "code",
   "execution_count": 22,
   "metadata": {},
   "outputs": [],
   "source": [
    "X_train, X_test, y_train, y_test = train_test_split(X, y, test_size=0.2, random_state=42)"
   ]
  },
  {
   "cell_type": "code",
   "execution_count": 23,
   "metadata": {},
   "outputs": [],
   "source": [
    "from sklearn.preprocessing import StandardScaler"
   ]
  },
  {
   "cell_type": "code",
   "execution_count": 24,
   "metadata": {},
   "outputs": [],
   "source": [
    "sc = StandardScaler()"
   ]
  },
  {
   "cell_type": "code",
   "execution_count": 25,
   "metadata": {},
   "outputs": [],
   "source": [
    "X_train = sc.fit_transform(X_train)\n",
    "X_test = sc.fit_transform(X_test)"
   ]
  },
  {
   "cell_type": "code",
   "execution_count": 30,
   "metadata": {},
   "outputs": [
    {
     "data": {
      "text/plain": [
       "(8000, 11)"
      ]
     },
     "execution_count": 30,
     "metadata": {},
     "output_type": "execute_result"
    }
   ],
   "source": [
    "#import keras\n",
    "X_train.shape"
   ]
  },
  {
   "cell_type": "code",
   "execution_count": 28,
   "metadata": {},
   "outputs": [],
   "source": [
    "from keras.models import Sequential\n",
    "from keras.layers import Dense"
   ]
  },
  {
   "cell_type": "code",
   "execution_count": 29,
   "metadata": {},
   "outputs": [],
   "source": [
    "seq = Sequential()"
   ]
  },
  {
   "cell_type": "code",
   "execution_count": 33,
   "metadata": {},
   "outputs": [
    {
     "name": "stderr",
     "output_type": "stream",
     "text": [
      "c:\\users\\user\\anaconda2\\envs\\tensorflow\\lib\\site-packages\\ipykernel_launcher.py:1: UserWarning: Update your `Dense` call to the Keras 2 API: `Dense(activation=\"relu\", kernel_initializer=\"uniform\", units=6, input_dim=11)`\n",
      "  \"\"\"Entry point for launching an IPython kernel.\n"
     ]
    }
   ],
   "source": [
    "seq.add(Dense(output_dim = 6, init = \"uniform\", activation = 'relu',input_dim = 11 ))"
   ]
  },
  {
   "cell_type": "code",
   "execution_count": 34,
   "metadata": {},
   "outputs": [
    {
     "name": "stderr",
     "output_type": "stream",
     "text": [
      "c:\\users\\user\\anaconda2\\envs\\tensorflow\\lib\\site-packages\\ipykernel_launcher.py:1: UserWarning: Update your `Dense` call to the Keras 2 API: `Dense(activation=\"relu\", units=6, kernel_initializer=\"uniform\")`\n",
      "  \"\"\"Entry point for launching an IPython kernel.\n"
     ]
    }
   ],
   "source": [
    "seq.add(Dense(output_dim = 6, init= 'uniform', activation='relu'))"
   ]
  },
  {
   "cell_type": "code",
   "execution_count": 35,
   "metadata": {},
   "outputs": [
    {
     "name": "stderr",
     "output_type": "stream",
     "text": [
      "c:\\users\\user\\anaconda2\\envs\\tensorflow\\lib\\site-packages\\ipykernel_launcher.py:1: UserWarning: Update your `Dense` call to the Keras 2 API: `Dense(activation=\"sigmoid\", units=1, kernel_initializer=\"uniform\")`\n",
      "  \"\"\"Entry point for launching an IPython kernel.\n"
     ]
    }
   ],
   "source": [
    "seq.add(Dense(output_dim = 1, init= 'uniform', activation='sigmoid'))"
   ]
  },
  {
   "cell_type": "code",
   "execution_count": 38,
   "metadata": {},
   "outputs": [],
   "source": [
    "seq.compile(optimizer = 'adam', loss='binary_crossentropy',metrics=['accuracy'])"
   ]
  },
  {
   "cell_type": "code",
   "execution_count": 39,
   "metadata": {
    "scrolled": true
   },
   "outputs": [
    {
     "name": "stdout",
     "output_type": "stream",
     "text": [
      "Epoch 1/50\n",
      "8000/8000 [==============================] - 8s 1ms/step - loss: 0.4820 - acc: 0.7939\n",
      "Epoch 2/50\n",
      "8000/8000 [==============================] - 3s 377us/step - loss: 0.4256 - acc: 0.7945\n",
      "Epoch 3/50\n",
      "8000/8000 [==============================] - 3s 367us/step - loss: 0.4214 - acc: 0.8194\n",
      "Epoch 4/50\n",
      "8000/8000 [==============================] - 3s 356us/step - loss: 0.4183 - acc: 0.8281\n",
      "Epoch 5/50\n",
      "8000/8000 [==============================] - 3s 361us/step - loss: 0.4156 - acc: 0.8302\n",
      "Epoch 6/50\n",
      "8000/8000 [==============================] - 3s 364us/step - loss: 0.4139 - acc: 0.8309\n",
      "Epoch 7/50\n",
      "8000/8000 [==============================] - 3s 363us/step - loss: 0.4127 - acc: 0.8345\n",
      "Epoch 8/50\n",
      "8000/8000 [==============================] - 3s 349us/step - loss: 0.4107 - acc: 0.8330 1s - l\n",
      "Epoch 9/50\n",
      "8000/8000 [==============================] - 3s 349us/step - loss: 0.4085 - acc: 0.8341\n",
      "Epoch 10/50\n",
      "8000/8000 [==============================] - 3s 367us/step - loss: 0.4077 - acc: 0.8336\n",
      "Epoch 11/50\n",
      "8000/8000 [==============================] - 3s 360us/step - loss: 0.4061 - acc: 0.8327\n",
      "Epoch 12/50\n",
      "8000/8000 [==============================] - 3s 368us/step - loss: 0.4045 - acc: 0.8344\n",
      "Epoch 13/50\n",
      "8000/8000 [==============================] - 3s 370us/step - loss: 0.4030 - acc: 0.8349\n",
      "Epoch 14/50\n",
      "8000/8000 [==============================] - 3s 354us/step - loss: 0.4016 - acc: 0.8364\n",
      "Epoch 15/50\n",
      "8000/8000 [==============================] - 3s 366us/step - loss: 0.4010 - acc: 0.8351\n",
      "Epoch 16/50\n",
      "8000/8000 [==============================] - 3s 359us/step - loss: 0.4001 - acc: 0.8349\n",
      "Epoch 17/50\n",
      "8000/8000 [==============================] - 3s 366us/step - loss: 0.3989 - acc: 0.8361 0s - loss: 0.40\n",
      "Epoch 18/50\n",
      "8000/8000 [==============================] - 3s 363us/step - loss: 0.3977 - acc: 0.8376 0s - loss: 0.3985 - acc: 0.\n",
      "Epoch 19/50\n",
      "8000/8000 [==============================] - 3s 365us/step - loss: 0.3971 - acc: 0.8387\n",
      "Epoch 20/50\n",
      "8000/8000 [==============================] - 3s 355us/step - loss: 0.3969 - acc: 0.8375\n",
      "Epoch 21/50\n",
      "8000/8000 [==============================] - 3s 372us/step - loss: 0.3953 - acc: 0.8379\n",
      "Epoch 22/50\n",
      "8000/8000 [==============================] - 3s 370us/step - loss: 0.3951 - acc: 0.8389\n",
      "Epoch 23/50\n",
      "8000/8000 [==============================] - 3s 357us/step - loss: 0.3951 - acc: 0.8394\n",
      "Epoch 24/50\n",
      "8000/8000 [==============================] - 3s 362us/step - loss: 0.3944 - acc: 0.8412\n",
      "Epoch 25/50\n",
      "8000/8000 [==============================] - 3s 371us/step - loss: 0.3938 - acc: 0.8404\n",
      "Epoch 26/50\n",
      "8000/8000 [==============================] - 3s 366us/step - loss: 0.3930 - acc: 0.8411\n",
      "Epoch 27/50\n",
      "8000/8000 [==============================] - 3s 368us/step - loss: 0.3924 - acc: 0.8391\n",
      "Epoch 28/50\n",
      "8000/8000 [==============================] - 3s 373us/step - loss: 0.3908 - acc: 0.8421\n",
      "Epoch 29/50\n",
      "8000/8000 [==============================] - 3s 364us/step - loss: 0.3834 - acc: 0.8456\n",
      "Epoch 30/50\n",
      "8000/8000 [==============================] - 3s 358us/step - loss: 0.3728 - acc: 0.8514\n",
      "Epoch 31/50\n",
      "8000/8000 [==============================] - 3s 362us/step - loss: 0.3605 - acc: 0.8556\n",
      "Epoch 32/50\n",
      "8000/8000 [==============================] - 3s 367us/step - loss: 0.3516 - acc: 0.8592\n",
      "Epoch 33/50\n",
      "8000/8000 [==============================] - 3s 353us/step - loss: 0.3458 - acc: 0.8637 0s - loss: 0.3462 - acc: 0.863 - ETA: 0s - loss: 0.3463 - acc: 0.863\n",
      "Epoch 34/50\n",
      "8000/8000 [==============================] - 3s 359us/step - loss: 0.3441 - acc: 0.8642\n",
      "Epoch 35/50\n",
      "8000/8000 [==============================] - 3s 372us/step - loss: 0.3416 - acc: 0.8621\n",
      "Epoch 36/50\n",
      "8000/8000 [==============================] - 3s 374us/step - loss: 0.3414 - acc: 0.8625\n",
      "Epoch 37/50\n",
      "8000/8000 [==============================] - 3s 361us/step - loss: 0.3395 - acc: 0.8625\n",
      "Epoch 38/50\n",
      "8000/8000 [==============================] - 3s 358us/step - loss: 0.3403 - acc: 0.8606\n",
      "Epoch 39/50\n",
      "8000/8000 [==============================] - 3s 354us/step - loss: 0.3396 - acc: 0.8641\n",
      "Epoch 40/50\n",
      "8000/8000 [==============================] - 3s 362us/step - loss: 0.3383 - acc: 0.8650\n",
      "Epoch 41/50\n",
      "8000/8000 [==============================] - 3s 355us/step - loss: 0.3392 - acc: 0.8630\n",
      "Epoch 42/50\n",
      "8000/8000 [==============================] - 3s 362us/step - loss: 0.3381 - acc: 0.8650\n",
      "Epoch 43/50\n",
      "8000/8000 [==============================] - 3s 362us/step - loss: 0.3387 - acc: 0.8624 0s - loss: 0.3380 - acc: \n",
      "Epoch 44/50\n",
      "8000/8000 [==============================] - 3s 359us/step - loss: 0.3386 - acc: 0.8620\n",
      "Epoch 45/50\n",
      "8000/8000 [==============================] - 3s 358us/step - loss: 0.3385 - acc: 0.8634\n",
      "Epoch 46/50\n",
      "8000/8000 [==============================] - 3s 365us/step - loss: 0.3394 - acc: 0.8621 0s - loss: 0\n",
      "Epoch 47/50\n",
      "8000/8000 [==============================] - 3s 354us/step - loss: 0.3383 - acc: 0.8656\n",
      "Epoch 48/50\n",
      "8000/8000 [==============================] - 3s 343us/step - loss: 0.3379 - acc: 0.8652\n",
      "Epoch 49/50\n",
      "8000/8000 [==============================] - 3s 350us/step - loss: 0.3376 - acc: 0.8642\n",
      "Epoch 50/50\n",
      "8000/8000 [==============================] - 3s 362us/step - loss: 0.3375 - acc: 0.8662\n"
     ]
    },
    {
     "data": {
      "text/plain": [
       "<keras.callbacks.History at 0xaa70007da0>"
      ]
     },
     "execution_count": 39,
     "metadata": {},
     "output_type": "execute_result"
    }
   ],
   "source": [
    "seq.fit(X_train, y_train, batch_size = 10, epochs = 50)"
   ]
  },
  {
   "cell_type": "code",
   "execution_count": 40,
   "metadata": {},
   "outputs": [],
   "source": [
    "y_pred = seq.predict(X_test)"
   ]
  },
  {
   "cell_type": "code",
   "execution_count": 42,
   "metadata": {},
   "outputs": [],
   "source": [
    "from sklearn.metrics import confusion_matrix, classification_report"
   ]
  },
  {
   "cell_type": "code",
   "execution_count": 44,
   "metadata": {},
   "outputs": [
    {
     "data": {
      "text/plain": [
       "array([[1527,   80],\n",
       "       [ 203,  190]], dtype=int64)"
      ]
     },
     "execution_count": 44,
     "metadata": {},
     "output_type": "execute_result"
    }
   ],
   "source": [
    "y_pred = y_pred > 0.5\n",
    "confusion_matrix(y_test, y_pred)"
   ]
  },
  {
   "cell_type": "code",
   "execution_count": 46,
   "metadata": {},
   "outputs": [
    {
     "name": "stdout",
     "output_type": "stream",
     "text": [
      "             precision    recall  f1-score   support\n",
      "\n",
      "          0       0.88      0.95      0.92      1607\n",
      "          1       0.70      0.48      0.57       393\n",
      "\n",
      "avg / total       0.85      0.86      0.85      2000\n",
      "\n"
     ]
    }
   ],
   "source": [
    "print(classification_report(y_test, y_pred))"
   ]
  },
  {
   "cell_type": "code",
   "execution_count": null,
   "metadata": {},
   "outputs": [],
   "source": []
  }
 ],
 "metadata": {
  "kernelspec": {
   "display_name": "Python 3",
   "language": "python",
   "name": "python3"
  },
  "language_info": {
   "codemirror_mode": {
    "name": "ipython",
    "version": 3
   },
   "file_extension": ".py",
   "mimetype": "text/x-python",
   "name": "python",
   "nbconvert_exporter": "python",
   "pygments_lexer": "ipython3",
   "version": "3.5.4"
  }
 },
 "nbformat": 4,
 "nbformat_minor": 2
}
